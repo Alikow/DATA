{
 "cells": [
  {
   "cell_type": "code",
   "execution_count": 1,
   "source": [
    "import pandas as pd"
   ],
   "outputs": [],
   "metadata": {}
  },
  {
   "cell_type": "markdown",
   "source": [
    "# **GDP For Some Countries**"
   ],
   "metadata": {}
  },
  {
   "cell_type": "code",
   "execution_count": 2,
   "source": [
    "GDP_data = {\r\n",
    "    \"Country\": [\"USA\", \"France\", \"Germany\", \"Egypt\", \"Iran\", \"UAE\"],\r\n",
    "    \"GDP\": [21.43, 2.716, 3.861, 0.303, 0.454, 0.421]\r\n",
    "}\r\n",
    "\r\n",
    "GDP = pd.DataFrame(GDP_data)\r\n",
    "print(GDP)"
   ],
   "outputs": [
    {
     "output_type": "stream",
     "name": "stdout",
     "text": [
      "   Country     GDP\n",
      "0      USA  21.430\n",
      "1   France   2.716\n",
      "2  Germany   3.861\n",
      "3    Egypt   0.303\n",
      "4     Iran   0.454\n",
      "5      UAE   0.421\n"
     ]
    }
   ],
   "metadata": {}
  },
  {
   "cell_type": "code",
   "execution_count": 3,
   "source": [
    "for (ind, row) in GDP.iterrows():\r\n",
    "    print(row)"
   ],
   "outputs": [
    {
     "output_type": "stream",
     "name": "stdout",
     "text": [
      "Country      USA\n",
      "GDP        21.43\n",
      "Name: 0, dtype: object\n",
      "Country    France\n",
      "GDP         2.716\n",
      "Name: 1, dtype: object\n",
      "Country    Germany\n",
      "GDP          3.861\n",
      "Name: 2, dtype: object\n",
      "Country    Egypt\n",
      "GDP        0.303\n",
      "Name: 3, dtype: object\n",
      "Country     Iran\n",
      "GDP        0.454\n",
      "Name: 4, dtype: object\n",
      "Country      UAE\n",
      "GDP        0.421\n",
      "Name: 5, dtype: object\n"
     ]
    }
   ],
   "metadata": {}
  },
  {
   "cell_type": "markdown",
   "source": [
    "# Student Degrees"
   ],
   "metadata": {}
  },
  {
   "cell_type": "code",
   "execution_count": 4,
   "source": [
    "score_data = {\r\n",
    "    \"Ali\": 100,\r\n",
    "    \"Abdul\": 85,\r\n",
    "    \"Karim\": 80,\r\n",
    "    \"Yasir\": 96,\r\n",
    "    \"Angela\": 98,\r\n",
    "    \"Mercil\": 40,\r\n",
    "    \"James\": 50,\r\n",
    "    \"Ladin\": 95,\r\n",
    "    \"Farida\": 29,\r\n",
    "    \"Osama\": 99,\r\n",
    "    \"Gmal\": 55,\r\n",
    "}\r\n",
    "\r\n",
    "name = [key for (key, data) in score_data.items()]\r\n",
    "score = [data for (key, data) in score_data.items()]\r\n",
    "final_data = {\"Name\": name, \"Score\": score}\r\n",
    "final = pd.DataFrame(final_data)\r\n",
    "print(final)"
   ],
   "outputs": [
    {
     "output_type": "stream",
     "name": "stdout",
     "text": [
      "      Name  Score\n",
      "0      Ali    100\n",
      "1    Abdul     85\n",
      "2    Karim     80\n",
      "3    Yasir     96\n",
      "4   Angela     98\n",
      "5   Mercil     40\n",
      "6    James     50\n",
      "7    Ladin     95\n",
      "8   Farida     29\n",
      "9    Osama     99\n",
      "10    Gmal     55\n"
     ]
    }
   ],
   "metadata": {}
  },
  {
   "cell_type": "markdown",
   "source": [
    "# Passed Final Exam"
   ],
   "metadata": {}
  },
  {
   "cell_type": "code",
   "execution_count": 5,
   "source": [
    "Passed_data = {day:key for (day, key) in score_data.items() if key >65}\r\n",
    "Passed = pd.DataFrame(Passed_data, index=[0])\r\n",
    "print(Passed) "
   ],
   "outputs": [
    {
     "output_type": "stream",
     "name": "stdout",
     "text": [
      "   Ali  Abdul  Karim  Yasir  Angela  Ladin  Osama\n",
      "0  100     85     80     96      98     95     99\n"
     ]
    }
   ],
   "metadata": {}
  }
 ],
 "metadata": {
  "orig_nbformat": 4,
  "language_info": {
   "name": "python",
   "version": "3.9.0",
   "mimetype": "text/x-python",
   "codemirror_mode": {
    "name": "ipython",
    "version": 3
   },
   "pygments_lexer": "ipython3",
   "nbconvert_exporter": "python",
   "file_extension": ".py"
  },
  "kernelspec": {
   "name": "python3",
   "display_name": "Python 3.9.0 64-bit"
  },
  "interpreter": {
   "hash": "63fd5069d213b44bf678585dea6b12cceca9941eaf7f819626cde1f2670de90d"
  }
 },
 "nbformat": 4,
 "nbformat_minor": 2
}