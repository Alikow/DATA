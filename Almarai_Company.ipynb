{
 "cells": [
  {
   "cell_type": "code",
   "execution_count": 1,
   "source": [
    "import pandas as pd\r\n",
    "import matplotlib.pyplot as plt"
   ],
   "outputs": [],
   "metadata": {}
  },
  {
   "cell_type": "markdown",
   "source": [
    "## **Almarai Stock prices**"
   ],
   "metadata": {}
  },
  {
   "cell_type": "code",
   "execution_count": 2,
   "source": [
    "data_prices = pd.read_csv(\"2280.SR.csv\")\r\n",
    "data_prices"
   ],
   "outputs": [
    {
     "output_type": "execute_result",
     "data": {
      "text/html": [
       "<div>\n",
       "<style scoped>\n",
       "    .dataframe tbody tr th:only-of-type {\n",
       "        vertical-align: middle;\n",
       "    }\n",
       "\n",
       "    .dataframe tbody tr th {\n",
       "        vertical-align: top;\n",
       "    }\n",
       "\n",
       "    .dataframe thead th {\n",
       "        text-align: right;\n",
       "    }\n",
       "</style>\n",
       "<table border=\"1\" class=\"dataframe\">\n",
       "  <thead>\n",
       "    <tr style=\"text-align: right;\">\n",
       "      <th></th>\n",
       "      <th>Date</th>\n",
       "      <th>Open</th>\n",
       "      <th>High</th>\n",
       "      <th>Low</th>\n",
       "      <th>Close</th>\n",
       "      <th>Adj Close</th>\n",
       "      <th>Volume</th>\n",
       "    </tr>\n",
       "  </thead>\n",
       "  <tbody>\n",
       "    <tr>\n",
       "      <th>0</th>\n",
       "      <td>2020-08-23</td>\n",
       "      <td>54.900002</td>\n",
       "      <td>56.099998</td>\n",
       "      <td>54.599998</td>\n",
       "      <td>56.099998</td>\n",
       "      <td>55.037498</td>\n",
       "      <td>1399236</td>\n",
       "    </tr>\n",
       "    <tr>\n",
       "      <th>1</th>\n",
       "      <td>2020-08-24</td>\n",
       "      <td>56.400002</td>\n",
       "      <td>56.599998</td>\n",
       "      <td>55.400002</td>\n",
       "      <td>55.700001</td>\n",
       "      <td>54.645077</td>\n",
       "      <td>2239510</td>\n",
       "    </tr>\n",
       "    <tr>\n",
       "      <th>2</th>\n",
       "      <td>2020-08-25</td>\n",
       "      <td>55.700001</td>\n",
       "      <td>56.000000</td>\n",
       "      <td>55.000000</td>\n",
       "      <td>55.000000</td>\n",
       "      <td>53.958336</td>\n",
       "      <td>1285251</td>\n",
       "    </tr>\n",
       "    <tr>\n",
       "      <th>3</th>\n",
       "      <td>2020-08-26</td>\n",
       "      <td>55.000000</td>\n",
       "      <td>55.500000</td>\n",
       "      <td>54.500000</td>\n",
       "      <td>54.599998</td>\n",
       "      <td>53.565910</td>\n",
       "      <td>654401</td>\n",
       "    </tr>\n",
       "    <tr>\n",
       "      <th>4</th>\n",
       "      <td>2020-08-27</td>\n",
       "      <td>54.900002</td>\n",
       "      <td>55.000000</td>\n",
       "      <td>54.500000</td>\n",
       "      <td>54.700001</td>\n",
       "      <td>53.664017</td>\n",
       "      <td>541958</td>\n",
       "    </tr>\n",
       "    <tr>\n",
       "      <th>...</th>\n",
       "      <td>...</td>\n",
       "      <td>...</td>\n",
       "      <td>...</td>\n",
       "      <td>...</td>\n",
       "      <td>...</td>\n",
       "      <td>...</td>\n",
       "      <td>...</td>\n",
       "    </tr>\n",
       "    <tr>\n",
       "      <th>246</th>\n",
       "      <td>2021-08-16</td>\n",
       "      <td>56.099998</td>\n",
       "      <td>56.400002</td>\n",
       "      <td>55.799999</td>\n",
       "      <td>56.099998</td>\n",
       "      <td>56.099998</td>\n",
       "      <td>340565</td>\n",
       "    </tr>\n",
       "    <tr>\n",
       "      <th>247</th>\n",
       "      <td>2021-08-17</td>\n",
       "      <td>55.799999</td>\n",
       "      <td>56.500000</td>\n",
       "      <td>55.700001</td>\n",
       "      <td>56.500000</td>\n",
       "      <td>56.500000</td>\n",
       "      <td>284851</td>\n",
       "    </tr>\n",
       "    <tr>\n",
       "      <th>248</th>\n",
       "      <td>2021-08-18</td>\n",
       "      <td>56.400002</td>\n",
       "      <td>57.099998</td>\n",
       "      <td>56.200001</td>\n",
       "      <td>56.799999</td>\n",
       "      <td>56.799999</td>\n",
       "      <td>332975</td>\n",
       "    </tr>\n",
       "    <tr>\n",
       "      <th>249</th>\n",
       "      <td>2021-08-19</td>\n",
       "      <td>56.500000</td>\n",
       "      <td>56.500000</td>\n",
       "      <td>55.900002</td>\n",
       "      <td>55.900002</td>\n",
       "      <td>55.900002</td>\n",
       "      <td>294943</td>\n",
       "    </tr>\n",
       "    <tr>\n",
       "      <th>250</th>\n",
       "      <td>2021-08-22</td>\n",
       "      <td>55.599998</td>\n",
       "      <td>56.099998</td>\n",
       "      <td>55.299999</td>\n",
       "      <td>55.599998</td>\n",
       "      <td>55.599998</td>\n",
       "      <td>368605</td>\n",
       "    </tr>\n",
       "  </tbody>\n",
       "</table>\n",
       "<p>251 rows × 7 columns</p>\n",
       "</div>"
      ],
      "text/plain": [
       "           Date       Open       High        Low      Close  Adj Close  \\\n",
       "0    2020-08-23  54.900002  56.099998  54.599998  56.099998  55.037498   \n",
       "1    2020-08-24  56.400002  56.599998  55.400002  55.700001  54.645077   \n",
       "2    2020-08-25  55.700001  56.000000  55.000000  55.000000  53.958336   \n",
       "3    2020-08-26  55.000000  55.500000  54.500000  54.599998  53.565910   \n",
       "4    2020-08-27  54.900002  55.000000  54.500000  54.700001  53.664017   \n",
       "..          ...        ...        ...        ...        ...        ...   \n",
       "246  2021-08-16  56.099998  56.400002  55.799999  56.099998  56.099998   \n",
       "247  2021-08-17  55.799999  56.500000  55.700001  56.500000  56.500000   \n",
       "248  2021-08-18  56.400002  57.099998  56.200001  56.799999  56.799999   \n",
       "249  2021-08-19  56.500000  56.500000  55.900002  55.900002  55.900002   \n",
       "250  2021-08-22  55.599998  56.099998  55.299999  55.599998  55.599998   \n",
       "\n",
       "      Volume  \n",
       "0    1399236  \n",
       "1    2239510  \n",
       "2    1285251  \n",
       "3     654401  \n",
       "4     541958  \n",
       "..       ...  \n",
       "246   340565  \n",
       "247   284851  \n",
       "248   332975  \n",
       "249   294943  \n",
       "250   368605  \n",
       "\n",
       "[251 rows x 7 columns]"
      ]
     },
     "metadata": {},
     "execution_count": 2
    }
   ],
   "metadata": {}
  },
  {
   "cell_type": "markdown",
   "source": [
    "## **Daily Change**\r\n",
    "### **It is the difference between a stock's current price and its price as of market close on the prior trading day**"
   ],
   "metadata": {}
  },
  {
   "cell_type": "code",
   "execution_count": 3,
   "source": [
    "price_changes = data_prices[\"Open\"] - data_prices[\"Close\"]\r\n",
    "price_changes"
   ],
   "outputs": [
    {
     "output_type": "execute_result",
     "data": {
      "text/plain": [
       "0     -1.199996\n",
       "1      0.700001\n",
       "2      0.700001\n",
       "3      0.400002\n",
       "4      0.200001\n",
       "         ...   \n",
       "246    0.000000\n",
       "247   -0.700001\n",
       "248   -0.399997\n",
       "249    0.599998\n",
       "250    0.000000\n",
       "Length: 251, dtype: float64"
      ]
     },
     "metadata": {},
     "execution_count": 3
    }
   ],
   "metadata": {}
  },
  {
   "cell_type": "markdown",
   "source": [
    "## **Daily Change of the frist 10 days from the fiscal year**"
   ],
   "metadata": {}
  },
  {
   "cell_type": "code",
   "execution_count": 4,
   "source": [
    "data_prices[\"Daily Change\"] = price_changes\r\n",
    "data_prices.head(10)"
   ],
   "outputs": [
    {
     "output_type": "execute_result",
     "data": {
      "text/html": [
       "<div>\n",
       "<style scoped>\n",
       "    .dataframe tbody tr th:only-of-type {\n",
       "        vertical-align: middle;\n",
       "    }\n",
       "\n",
       "    .dataframe tbody tr th {\n",
       "        vertical-align: top;\n",
       "    }\n",
       "\n",
       "    .dataframe thead th {\n",
       "        text-align: right;\n",
       "    }\n",
       "</style>\n",
       "<table border=\"1\" class=\"dataframe\">\n",
       "  <thead>\n",
       "    <tr style=\"text-align: right;\">\n",
       "      <th></th>\n",
       "      <th>Date</th>\n",
       "      <th>Open</th>\n",
       "      <th>High</th>\n",
       "      <th>Low</th>\n",
       "      <th>Close</th>\n",
       "      <th>Adj Close</th>\n",
       "      <th>Volume</th>\n",
       "      <th>Daily Change</th>\n",
       "    </tr>\n",
       "  </thead>\n",
       "  <tbody>\n",
       "    <tr>\n",
       "      <th>0</th>\n",
       "      <td>2020-08-23</td>\n",
       "      <td>54.900002</td>\n",
       "      <td>56.099998</td>\n",
       "      <td>54.599998</td>\n",
       "      <td>56.099998</td>\n",
       "      <td>55.037498</td>\n",
       "      <td>1399236</td>\n",
       "      <td>-1.199996</td>\n",
       "    </tr>\n",
       "    <tr>\n",
       "      <th>1</th>\n",
       "      <td>2020-08-24</td>\n",
       "      <td>56.400002</td>\n",
       "      <td>56.599998</td>\n",
       "      <td>55.400002</td>\n",
       "      <td>55.700001</td>\n",
       "      <td>54.645077</td>\n",
       "      <td>2239510</td>\n",
       "      <td>0.700001</td>\n",
       "    </tr>\n",
       "    <tr>\n",
       "      <th>2</th>\n",
       "      <td>2020-08-25</td>\n",
       "      <td>55.700001</td>\n",
       "      <td>56.000000</td>\n",
       "      <td>55.000000</td>\n",
       "      <td>55.000000</td>\n",
       "      <td>53.958336</td>\n",
       "      <td>1285251</td>\n",
       "      <td>0.700001</td>\n",
       "    </tr>\n",
       "    <tr>\n",
       "      <th>3</th>\n",
       "      <td>2020-08-26</td>\n",
       "      <td>55.000000</td>\n",
       "      <td>55.500000</td>\n",
       "      <td>54.500000</td>\n",
       "      <td>54.599998</td>\n",
       "      <td>53.565910</td>\n",
       "      <td>654401</td>\n",
       "      <td>0.400002</td>\n",
       "    </tr>\n",
       "    <tr>\n",
       "      <th>4</th>\n",
       "      <td>2020-08-27</td>\n",
       "      <td>54.900002</td>\n",
       "      <td>55.000000</td>\n",
       "      <td>54.500000</td>\n",
       "      <td>54.700001</td>\n",
       "      <td>53.664017</td>\n",
       "      <td>541958</td>\n",
       "      <td>0.200001</td>\n",
       "    </tr>\n",
       "    <tr>\n",
       "      <th>5</th>\n",
       "      <td>2020-08-30</td>\n",
       "      <td>54.400002</td>\n",
       "      <td>55.200001</td>\n",
       "      <td>54.000000</td>\n",
       "      <td>55.200001</td>\n",
       "      <td>54.154549</td>\n",
       "      <td>382719</td>\n",
       "      <td>-0.799999</td>\n",
       "    </tr>\n",
       "    <tr>\n",
       "      <th>6</th>\n",
       "      <td>2020-08-31</td>\n",
       "      <td>55.200001</td>\n",
       "      <td>55.200001</td>\n",
       "      <td>53.700001</td>\n",
       "      <td>53.700001</td>\n",
       "      <td>52.682957</td>\n",
       "      <td>1076298</td>\n",
       "      <td>1.500000</td>\n",
       "    </tr>\n",
       "    <tr>\n",
       "      <th>7</th>\n",
       "      <td>2020-09-01</td>\n",
       "      <td>54.000000</td>\n",
       "      <td>54.500000</td>\n",
       "      <td>53.099998</td>\n",
       "      <td>53.299999</td>\n",
       "      <td>52.290531</td>\n",
       "      <td>1136239</td>\n",
       "      <td>0.700001</td>\n",
       "    </tr>\n",
       "    <tr>\n",
       "      <th>8</th>\n",
       "      <td>2020-09-02</td>\n",
       "      <td>53.700001</td>\n",
       "      <td>53.700001</td>\n",
       "      <td>52.900002</td>\n",
       "      <td>53.299999</td>\n",
       "      <td>52.290531</td>\n",
       "      <td>613606</td>\n",
       "      <td>0.400002</td>\n",
       "    </tr>\n",
       "    <tr>\n",
       "      <th>9</th>\n",
       "      <td>2020-09-03</td>\n",
       "      <td>53.599998</td>\n",
       "      <td>54.000000</td>\n",
       "      <td>53.400002</td>\n",
       "      <td>54.000000</td>\n",
       "      <td>52.977272</td>\n",
       "      <td>595617</td>\n",
       "      <td>-0.400002</td>\n",
       "    </tr>\n",
       "  </tbody>\n",
       "</table>\n",
       "</div>"
      ],
      "text/plain": [
       "         Date       Open       High        Low      Close  Adj Close   Volume  \\\n",
       "0  2020-08-23  54.900002  56.099998  54.599998  56.099998  55.037498  1399236   \n",
       "1  2020-08-24  56.400002  56.599998  55.400002  55.700001  54.645077  2239510   \n",
       "2  2020-08-25  55.700001  56.000000  55.000000  55.000000  53.958336  1285251   \n",
       "3  2020-08-26  55.000000  55.500000  54.500000  54.599998  53.565910   654401   \n",
       "4  2020-08-27  54.900002  55.000000  54.500000  54.700001  53.664017   541958   \n",
       "5  2020-08-30  54.400002  55.200001  54.000000  55.200001  54.154549   382719   \n",
       "6  2020-08-31  55.200001  55.200001  53.700001  53.700001  52.682957  1076298   \n",
       "7  2020-09-01  54.000000  54.500000  53.099998  53.299999  52.290531  1136239   \n",
       "8  2020-09-02  53.700001  53.700001  52.900002  53.299999  52.290531   613606   \n",
       "9  2020-09-03  53.599998  54.000000  53.400002  54.000000  52.977272   595617   \n",
       "\n",
       "   Daily Change  \n",
       "0     -1.199996  \n",
       "1      0.700001  \n",
       "2      0.700001  \n",
       "3      0.400002  \n",
       "4      0.200001  \n",
       "5     -0.799999  \n",
       "6      1.500000  \n",
       "7      0.700001  \n",
       "8      0.400002  \n",
       "9     -0.400002  "
      ]
     },
     "metadata": {},
     "execution_count": 4
    }
   ],
   "metadata": {}
  },
  {
   "cell_type": "markdown",
   "source": [
    "## **stock daily percentage change**"
   ],
   "metadata": {}
  },
  {
   "cell_type": "code",
   "execution_count": 5,
   "source": [
    "percentile_change = (data_prices[\"Close\"] - data_prices[\"Open\"])  / data_prices[\"Open\"] * 100\r\n",
    "print(\"stock percentage change\")\r\n",
    "percentile_change"
   ],
   "outputs": [
    {
     "output_type": "stream",
     "name": "stdout",
     "text": [
      "stock percentage change\n"
     ]
    },
    {
     "output_type": "execute_result",
     "data": {
      "text/plain": [
       "0      2.185785\n",
       "1     -1.241136\n",
       "2     -1.256734\n",
       "3     -0.727276\n",
       "4     -0.364301\n",
       "         ...   \n",
       "246    0.000000\n",
       "247    1.254482\n",
       "248    0.709215\n",
       "249   -1.061943\n",
       "250    0.000000\n",
       "Length: 251, dtype: float64"
      ]
     },
     "metadata": {},
     "execution_count": 5
    }
   ],
   "metadata": {}
  },
  {
   "cell_type": "markdown",
   "source": [
    "## **Prices Charter**"
   ],
   "metadata": {}
  },
  {
   "cell_type": "code",
   "execution_count": 6,
   "source": [
    "fig, ax = plt.subplots()\r\n",
    "data_prices.Close.plot(ax=ax)\r\n",
    "ax.set_ylabel(\"Price\")"
   ],
   "outputs": [
    {
     "output_type": "execute_result",
     "data": {
      "text/plain": [
       "Text(0, 0.5, 'Price')"
      ]
     },
     "metadata": {},
     "execution_count": 6
    },
    {
     "output_type": "display_data",
     "data": {
      "image/png": "[encoded data removed]",
      "text/plain": [
       "<Figure size 432x288 with 1 Axes>"
      ]
     },
     "metadata": {
      "needs_background": "light"
     }
    }
   ],
   "metadata": {}
  }
 ],
 "metadata": {
  "orig_nbformat": 4,
  "language_info": {
   "name": "python",
   "version": "3.9.0",
   "mimetype": "text/x-python",
   "codemirror_mode": {
    "name": "ipython",
    "version": 3
   },
   "pygments_lexer": "ipython3",
   "nbconvert_exporter": "python",
   "file_extension": ".py"
  },
  "kernelspec": {
   "name": "python3",
   "display_name": "Python 3.9.0 64-bit"
  },
  "interpreter": {
   "hash": "63fd5069d213b44bf678585dea6b12cceca9941eaf7f819626cde1f2670de90d"
  }
 },
 "nbformat": 4,
 "nbformat_minor": 2
}